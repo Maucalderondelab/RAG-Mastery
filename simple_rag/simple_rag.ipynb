{
 "cells": [
  {
   "cell_type": "markdown",
   "metadata": {},
   "source": [
    "# Simple RAG"
   ]
  },
  {
   "cell_type": "markdown",
   "metadata": {},
   "source": []
  },
  {
   "cell_type": "code",
   "execution_count": 1,
   "metadata": {},
   "outputs": [],
   "source": [
    "import sys\n",
    "import os\n",
    "from typing import List\n",
    "\n",
    "# Path to the directory containing config.py\n",
    "config_path = '/home/mauricio/Documents/Projects/RAG-Mastery'\n",
    "\n",
    "# Add the directory to sys.path\n",
    "if config_path not in sys.path:\n",
    "    sys.path.append(config_path)\n",
    "\n",
    "# Now you can import the API_KEY from config.py\n",
    "from config import API_KEY\n",
    "\n",
    "path_to_docs = \"/home/mauricio/Documents/Projects/RAG-Mastery/data\""
   ]
  },
  {
   "cell_type": "markdown",
   "metadata": {},
   "source": [
    "Import the ChatMistralAI class from langchain. With this, we'll be able to use the AI model from Mistral. In our case, the 7x8b model will be enough for our RAG system. We initialize the model with our API key to access Mistral's services."
   ]
  },
  {
   "cell_type": "code",
   "execution_count": 2,
   "metadata": {},
   "outputs": [],
   "source": [
    "from langchain_mistralai.chat_models import ChatMistralAI\n",
    "def get_llm_model(self):\n",
    "        return ChatMistralAI(\n",
    "            model_name=\"open-mixtral-8x22b\", \n",
    "            mistral_api_key=self.API_KEY\n",
    "        )"
   ]
  },
  {
   "cell_type": "markdown",
   "metadata": {},
   "source": [
    "In the next part, we use an UnstructuredLoader due to the multiple advantages it provides, and later we plan to increase the capabilities of our RAG system with this. The main advantages are that it can handle multiple file formats (.docx, .pdf, .txt) with a single loader and it preserves the document structure. This provides better retention of the original document layout and structure, which can lead to more accurate and context-aware text extraction.\n"
   ]
  },
  {
   "cell_type": "code",
   "execution_count": 6,
   "metadata": {},
   "outputs": [],
   "source": [
    "from langchain_unstructured import UnstructuredLoader\n",
    "from langchain.schema.document import Document\n",
    "\n",
    "def load_documents(folder_path: str) -> List[Document]:\n",
    "    documents = []\n",
    "    for file in os.listdir(folder_path):\n",
    "        if file.endswith('.docx') or file.endswith('.pdf') or file.endswith('.txt'):\n",
    "            loader = UnstructuredLoader(os.path.join(folder_path, file))\n",
    "            documents.extend(loader.load())\n",
    "        print(\"Document loaded lenght: \", len(documents))\n",
    "    print(\"Documents loaded successfully ✅\")\n",
    "    print(documents[0].metadata.get(\"filename\"))\n",
    "    return documents"
   ]
  },
  {
   "cell_type": "code",
   "execution_count": 10,
   "metadata": {},
   "outputs": [],
   "source": [
    "from langchain_text_splitters import RecursiveCharacterTextSplitter\n",
    "from langchain_chroma import Chroma\n",
    "\n",
    "\n",
    "def split_documents(documents: list[Document], chunk_size: int = 1000, chunk_overlap: int = 200) -> List[Document]:\n",
    "        try:\n",
    "            text_splitter: RecursiveCharacterTextSplitter = RecursiveCharacterTextSplitter(\n",
    "                chunk_size=chunk_size,\n",
    "                chunk_overlap=chunk_overlap,\n",
    "                length_function=len,\n",
    "                separators=[\"\\n\\n\", \"\\n\", \" \", \"\"]\n",
    "            )\n",
    "            splits: List[Document] = text_splitter.split_documents(documents)\n",
    "            print(\"Split document successfully ✅\")\n",
    "            print(\"Documents split: \", len(splits))\n",
    "            return splits\n",
    "        except Exception as e:\n",
    "            print(f\"Error splitting documents: {e}\")\n",
    "            raise\n"
   ]
  },
  {
   "cell_type": "code",
   "execution_count": 11,
   "metadata": {},
   "outputs": [
    {
     "name": "stdout",
     "output_type": "stream",
     "text": [
      "Document loaded lenght:  1868\n",
      "Documents loaded successfully ✅\n",
      "2023-rulebook_final.pdf\n",
      "Split document successfully ✅\n",
      "Documents split:  1891\n"
     ]
    }
   ],
   "source": [
    "a = load_documents(path_to_docs)\n",
    "b = split_documents(a)"
   ]
  },
  {
   "cell_type": "code",
   "execution_count": null,
   "metadata": {},
   "outputs": [],
   "source": []
  },
  {
   "cell_type": "code",
   "execution_count": null,
   "metadata": {},
   "outputs": [],
   "source": []
  }
 ],
 "metadata": {
  "kernelspec": {
   "display_name": "env_rag_mastery",
   "language": "python",
   "name": "python3"
  },
  "language_info": {
   "codemirror_mode": {
    "name": "ipython",
    "version": 3
   },
   "file_extension": ".py",
   "mimetype": "text/x-python",
   "name": "python",
   "nbconvert_exporter": "python",
   "pygments_lexer": "ipython3",
   "version": "3.11.9"
  }
 },
 "nbformat": 4,
 "nbformat_minor": 2
}
